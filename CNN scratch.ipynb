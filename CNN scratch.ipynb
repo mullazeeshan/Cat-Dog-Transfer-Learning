{
 "cells": [
  {
   "cell_type": "code",
   "execution_count": 1,
   "metadata": {
    "colab": {
     "base_uri": "https://localhost:8080/",
     "height": 224
    },
    "colab_type": "code",
    "id": "EzeCCH4pNTIY",
    "outputId": "d0078d53-dc77-493e-9e9c-dd65743b3048"
   },
   "outputs": [
    {
     "name": "stdout",
     "output_type": "stream",
     "text": [
      "--2019-05-11 19:02:34--  https://download.microsoft.com/download/3/E/1/3E1C3F21-ECDB-4869-8368-6DEBA77B919F/kagglecatsanddogs_3367a.zip\n",
      "Resolving download.microsoft.com (download.microsoft.com)... 184.26.80.188, 2600:1409:12:285::e59, 2600:1409:12:282::e59\n",
      "Connecting to download.microsoft.com (download.microsoft.com)|184.26.80.188|:443... connected.\n",
      "HTTP request sent, awaiting response... 200 OK\n",
      "Length: 824894548 (787M) [application/octet-stream]\n",
      "Saving to: ‘kagglecatsanddogs_3367a.zip’\n",
      "\n",
      "kagglecatsanddogs_3 100%[===================>] 786.68M   127MB/s    in 6.2s    \n",
      "\n",
      "2019-05-11 19:02:40 (127 MB/s) - ‘kagglecatsanddogs_3367a.zip’ saved [824894548/824894548]\n",
      "\n"
     ]
    }
   ],
   "source": [
    "!wget https://download.microsoft.com/download/3/E/1/3E1C3F21-ECDB-4869-8368-6DEBA77B919F/kagglecatsanddogs_3367a.zip\n",
    "!unzip -q kagglecatsanddogs_3367a.zip"
   ]
  },
  {
   "cell_type": "code",
   "execution_count": 2,
   "metadata": {
    "colab": {
     "base_uri": "https://localhost:8080/",
     "height": 68
    },
    "colab_type": "code",
    "id": "zOw7w2asNYN6",
    "outputId": "8f291ca3-33be-4bda-c7cc-2aef4a085f24"
   },
   "outputs": [
    {
     "name": "stdout",
     "output_type": "stream",
     "text": [
      "12501 12501\n",
      "Cat datasets: (3000,) (1000,) (1000,)\n",
      "Dog datasets: (3000,) (1000,) (1000,)\n"
     ]
    }
   ],
   "source": [
    "import os\n",
    "import numpy as np\n",
    "import shutil\n",
    "import glob\n",
    "import warnings\n",
    "warnings.filterwarnings('ignore')\n",
    "\n",
    "cat_files = os.listdir('PetImages/Cat')\n",
    "dog_files = os.listdir('PetImages/Dog')\n",
    "\n",
    "for cat in cat_files:\n",
    "  src = os.path.join('PetImages/Cat',cat)\n",
    "  dst = os.path.join('PetImages/Cat','cat_'+cat)\n",
    "  os.rename( src,dst )\n",
    "\n",
    "for dog in dog_files:\n",
    "  src = os.path.join('PetImages/Dog',dog)\n",
    "  dst = os.path.join('PetImages/Dog','dog_'+dog)\n",
    "  os.rename( src , dst )\n",
    "  \n",
    "\n",
    "cat_files = glob.glob('PetImages/Cat/*')\n",
    "dog_files = glob.glob('PetImages/Dog/*')\n",
    "\n",
    "print(len(cat_files),len(dog_files))\n",
    "\n",
    "cat_train = np.random.choice(cat_files, size=3000, replace=False)\n",
    "dog_train = np.random.choice(dog_files, size=3000, replace=False)\n",
    "cat_files = list(set(cat_files) - set(cat_train))\n",
    "dog_files = list(set(dog_files) - set(dog_train))\n",
    "\n",
    "cat_val = np.random.choice(cat_files, size=1000, replace=False)\n",
    "dog_val = np.random.choice(dog_files, size=1000, replace=False)\n",
    "cat_files = list(set(cat_files) - set(cat_val))\n",
    "dog_files = list(set(dog_files) - set(dog_val))\n",
    "\n",
    "cat_test = np.random.choice(cat_files, size=1000, replace=False)\n",
    "dog_test = np.random.choice(dog_files, size=1000, replace=False)\n",
    "\n",
    "print('Cat datasets:', cat_train.shape, cat_val.shape, cat_test.shape)\n",
    "print('Dog datasets:', dog_train.shape, dog_val.shape, dog_test.shape)\n",
    "#rm -r PetImages/ kagglecatsanddogs_3367a.zip readme\\[1\\].txt MSR-LA\\ -\\ 3467.docx"
   ]
  },
  {
   "cell_type": "markdown",
   "metadata": {
    "colab_type": "text",
    "id": "RXwmVayNUY1q"
   },
   "source": [
    "### Splitting Train, Validation, Test Data"
   ]
  },
  {
   "cell_type": "code",
   "execution_count": 0,
   "metadata": {
    "colab": {},
    "colab_type": "code",
    "id": "RVKEXBfqOCBN"
   },
   "outputs": [],
   "source": [
    "train_dir = 'training_data'\n",
    "val_dir = 'validation_data'\n",
    "test_dir = 'test_data'\n",
    "\n",
    "train_files = np.concatenate([cat_train, dog_train])\n",
    "validate_files = np.concatenate([cat_val, dog_val])\n",
    "test_files = np.concatenate([cat_test, dog_test])\n",
    "\n",
    "os.mkdir(train_dir) if not os.path.isdir(train_dir) else None\n",
    "os.mkdir(val_dir) if not os.path.isdir(val_dir) else None\n",
    "os.mkdir(test_dir) if not os.path.isdir(test_dir) else None\n",
    "\n",
    "for fn in train_files:\n",
    "    shutil.copy(fn, train_dir)\n",
    "\n",
    "for fn in validate_files:\n",
    "    shutil.copy(fn, val_dir)\n",
    "    \n",
    "for fn in test_files:\n",
    "    shutil.copy(fn, test_dir)\n",
    "#!rm -r test_data/ training_data/ validation_data/"
   ]
  },
  {
   "cell_type": "code",
   "execution_count": 4,
   "metadata": {
    "colab": {
     "base_uri": "https://localhost:8080/",
     "height": 51
    },
    "colab_type": "code",
    "id": "9NO8v9c37FFt",
    "outputId": "d31900c7-d073-42c6-95bf-ce59abc82bbb"
   },
   "outputs": [
    {
     "name": "stderr",
     "output_type": "stream",
     "text": [
      "Using TensorFlow backend.\n"
     ]
    },
    {
     "name": "stdout",
     "output_type": "stream",
     "text": [
      "Train dataset shape: (5999, 150, 150, 3) \tValidation dataset shape: (2000, 150, 150, 3)\n"
     ]
    }
   ],
   "source": [
    "from keras.preprocessing.image import ImageDataGenerator, load_img, img_to_array, array_to_img\n",
    "\n",
    "IMG_DIM = (150,150)\n",
    "\n",
    "\n",
    "train_files = glob.glob('training_data/*')\n",
    "train_imgs = [];train_labels = []\n",
    "for file in train_files:\n",
    "  try:\n",
    "    train_imgs.append( img_to_array(load_img( file,target_size=IMG_DIM )) )\n",
    "    train_labels.append(file.split('/')[1].split('_')[0])\n",
    "  except:\n",
    "    pass\n",
    "train_imgs = np.array(train_imgs)\n",
    "\n",
    "validation_files = glob.glob('validation_data/*')\n",
    "validation_imgs = [];validation_labels = []\n",
    "for file in validation_files:\n",
    "  try:\n",
    "    validation_imgs.append( img_to_array(load_img( file,target_size=IMG_DIM )) )\n",
    "    validation_labels.append(file.split('/')[1].split('_')[0])\n",
    "  except:\n",
    "    pass\n",
    "train_imgs = np.array(train_imgs)\n",
    "validation_imgs = np.array(validation_imgs)\n",
    "\n",
    "\n",
    "print('Train dataset shape:', train_imgs.shape, \n",
    "      '\\tValidation dataset shape:', validation_imgs.shape)"
   ]
  },
  {
   "cell_type": "code",
   "execution_count": 0,
   "metadata": {
    "colab": {},
    "colab_type": "code",
    "id": "uCiF0caJFpqk"
   },
   "outputs": [],
   "source": [
    "# encode text category labels\n",
    "from sklearn.preprocessing import LabelEncoder\n",
    "\n",
    "le = LabelEncoder()\n",
    "le.fit(train_labels)\n",
    "train_labels_enc = le.transform(train_labels)\n",
    "validation_labels_enc = le.transform(validation_labels)"
   ]
  },
  {
   "cell_type": "markdown",
   "metadata": {
    "colab_type": "text",
    "id": "eF9tlYMGFKVm"
   },
   "source": [
    "### Image Augmentation"
   ]
  },
  {
   "cell_type": "code",
   "execution_count": 0,
   "metadata": {
    "colab": {},
    "colab_type": "code",
    "id": "Nu39Vxd2DKd-"
   },
   "outputs": [],
   "source": [
    "train_datagen = ImageDataGenerator(rescale=1./255, \n",
    "                                   zoom_range=0.3, \n",
    "                                   rotation_range=50,\n",
    "                                   width_shift_range=0.2, \n",
    "                                   height_shift_range=0.2, \n",
    "                                   shear_range=0.2, \n",
    "                                   horizontal_flip=True, \n",
    "                                   fill_mode='nearest')\n",
    "val_datagen = ImageDataGenerator(rescale=1./255)\n",
    "train_generator = train_datagen.flow(train_imgs, train_labels_enc, batch_size=30)\n",
    "val_generator = val_datagen.flow(validation_imgs, validation_labels_enc, batch_size=20)"
   ]
  },
  {
   "cell_type": "markdown",
   "metadata": {
    "colab_type": "text",
    "id": "F48T5RXzF7RJ"
   },
   "source": [
    "### Keras Model"
   ]
  },
  {
   "cell_type": "code",
   "execution_count": 7,
   "metadata": {
    "colab": {
     "base_uri": "https://localhost:8080/",
     "height": 666
    },
    "colab_type": "code",
    "id": "6DUkRSxBFT1B",
    "outputId": "4d80b5e1-872c-482c-9f6c-33f07de4c555"
   },
   "outputs": [
    {
     "name": "stdout",
     "output_type": "stream",
     "text": [
      "WARNING:tensorflow:From /usr/local/lib/python3.6/dist-packages/tensorflow/python/framework/op_def_library.py:263: colocate_with (from tensorflow.python.framework.ops) is deprecated and will be removed in a future version.\n",
      "Instructions for updating:\n",
      "Colocations handled automatically by placer.\n",
      "WARNING:tensorflow:From /usr/local/lib/python3.6/dist-packages/keras/backend/tensorflow_backend.py:3445: calling dropout (from tensorflow.python.ops.nn_ops) with keep_prob is deprecated and will be removed in a future version.\n",
      "Instructions for updating:\n",
      "Please use `rate` instead of `keep_prob`. Rate should be set to `rate = 1 - keep_prob`.\n",
      "_________________________________________________________________\n",
      "Layer (type)                 Output Shape              Param #   \n",
      "=================================================================\n",
      "input_1 (InputLayer)         (None, 150, 150, 3)       0         \n",
      "_________________________________________________________________\n",
      "conv2d_1 (Conv2D)            (None, 148, 148, 16)      448       \n",
      "_________________________________________________________________\n",
      "max_pooling2d_1 (MaxPooling2 (None, 74, 74, 16)        0         \n",
      "_________________________________________________________________\n",
      "conv2d_2 (Conv2D)            (None, 72, 72, 64)        9280      \n",
      "_________________________________________________________________\n",
      "max_pooling2d_2 (MaxPooling2 (None, 36, 36, 64)        0         \n",
      "_________________________________________________________________\n",
      "conv2d_3 (Conv2D)            (None, 34, 34, 128)       73856     \n",
      "_________________________________________________________________\n",
      "max_pooling2d_3 (MaxPooling2 (None, 17, 17, 128)       0         \n",
      "_________________________________________________________________\n",
      "flatten_1 (Flatten)          (None, 36992)             0         \n",
      "_________________________________________________________________\n",
      "dropout_1 (Dropout)          (None, 36992)             0         \n",
      "_________________________________________________________________\n",
      "dense_1 (Dense)              (None, 512)               18940416  \n",
      "_________________________________________________________________\n",
      "dropout_2 (Dropout)          (None, 512)               0         \n",
      "_________________________________________________________________\n",
      "dense_2 (Dense)              (None, 1)                 513       \n",
      "=================================================================\n",
      "Total params: 19,024,513\n",
      "Trainable params: 19,024,513\n",
      "Non-trainable params: 0\n",
      "_________________________________________________________________\n"
     ]
    }
   ],
   "source": [
    "from keras.layers import Conv2D, MaxPooling2D, Flatten, Dense, Dropout, Input\n",
    "from keras.models import Model\n",
    "from keras import optimizers\n",
    "\n",
    "input_shape = (150, 150, 3)\n",
    "\n",
    "input_l = Input((150,150,3))\n",
    "\n",
    "l1_conv = Conv2D(16, kernel_size=(3, 3), activation='relu')(input_l)\n",
    "l1_pool = MaxPooling2D(pool_size=(2, 2))(l1_conv)\n",
    "\n",
    "l2_conv = Conv2D(64, kernel_size=(3, 3), activation='relu')(l1_pool)\n",
    "l2_pool = MaxPooling2D(pool_size=(2, 2))(l2_conv)\n",
    "\n",
    "l3_conv = Conv2D(128, kernel_size=(3, 3), activation='relu')(l2_pool)\n",
    "l3_pool = MaxPooling2D(pool_size=(2, 2))(l3_conv)\n",
    "\n",
    "l4 = Flatten()(l3_pool)\n",
    "l4_dropout = Dropout(0.3)(l4)\n",
    "\n",
    "l5 = Dense(512, activation='relu')(l4_dropout)\n",
    "l5_dropout = Dropout(0.3)(l5)\n",
    "\n",
    "output = Dense(1, activation='sigmoid')(l5_dropout)\n",
    "\n",
    "\n",
    "model = Model(input_l, output)\n",
    "\n",
    "model.compile(loss='binary_crossentropy', optimizer=optimizers.RMSprop(), metrics=['accuracy'])\n",
    "\n",
    "model.summary()"
   ]
  },
  {
   "cell_type": "code",
   "execution_count": 8,
   "metadata": {
    "colab": {
     "base_uri": "https://localhost:8080/",
     "height": 3488
    },
    "colab_type": "code",
    "id": "-imFB6g1H6MW",
    "outputId": "86cb883f-6e70-4bb9-9637-f1bfe8c0c014"
   },
   "outputs": [
    {
     "name": "stdout",
     "output_type": "stream",
     "text": [
      "WARNING:tensorflow:From /usr/local/lib/python3.6/dist-packages/tensorflow/python/ops/math_ops.py:3066: to_int32 (from tensorflow.python.ops.math_ops) is deprecated and will be removed in a future version.\n",
      "Instructions for updating:\n",
      "Use tf.cast instead.\n",
      "Epoch 1/100\n",
      " - 17s - loss: 0.8622 - acc: 0.5310 - val_loss: 0.6788 - val_acc: 0.5240\n",
      "Epoch 2/100\n",
      " - 13s - loss: 0.6918 - acc: 0.5479 - val_loss: 0.6593 - val_acc: 0.5730\n",
      "Epoch 3/100\n",
      " - 13s - loss: 0.6772 - acc: 0.5933 - val_loss: 0.5895 - val_acc: 0.6900\n",
      "Epoch 4/100\n",
      " - 13s - loss: 0.6583 - acc: 0.6218 - val_loss: 0.6041 - val_acc: 0.6760\n",
      "Epoch 5/100\n",
      " - 13s - loss: 0.6430 - acc: 0.6293 - val_loss: 0.5745 - val_acc: 0.6990\n",
      "Epoch 6/100\n",
      " - 13s - loss: 0.6190 - acc: 0.6515 - val_loss: 0.5982 - val_acc: 0.6750\n",
      "Epoch 7/100\n",
      " - 14s - loss: 0.6172 - acc: 0.6640 - val_loss: 0.5325 - val_acc: 0.7120\n",
      "Epoch 8/100\n",
      " - 13s - loss: 0.6209 - acc: 0.6582 - val_loss: 0.5567 - val_acc: 0.7320\n",
      "Epoch 9/100\n",
      " - 13s - loss: 0.6211 - acc: 0.6560 - val_loss: 0.5010 - val_acc: 0.7410\n",
      "Epoch 10/100\n",
      " - 13s - loss: 0.5903 - acc: 0.6806 - val_loss: 0.5094 - val_acc: 0.7390\n",
      "Epoch 11/100\n",
      " - 13s - loss: 0.6082 - acc: 0.6700 - val_loss: 0.5429 - val_acc: 0.7120\n",
      "Epoch 12/100\n",
      " - 13s - loss: 0.5843 - acc: 0.6872 - val_loss: 0.5129 - val_acc: 0.7510\n",
      "Epoch 13/100\n",
      " - 14s - loss: 0.5839 - acc: 0.6810 - val_loss: 0.4997 - val_acc: 0.7640\n",
      "Epoch 14/100\n",
      " - 13s - loss: 0.5899 - acc: 0.6836 - val_loss: 0.5882 - val_acc: 0.7130\n",
      "Epoch 15/100\n",
      " - 13s - loss: 0.5805 - acc: 0.7000 - val_loss: 0.7053 - val_acc: 0.6550\n",
      "Epoch 16/100\n",
      " - 13s - loss: 0.5820 - acc: 0.6992 - val_loss: 0.4845 - val_acc: 0.7650\n",
      "Epoch 17/100\n",
      " - 13s - loss: 0.5752 - acc: 0.7017 - val_loss: 0.5363 - val_acc: 0.7270\n",
      "Epoch 18/100\n",
      " - 13s - loss: 0.5657 - acc: 0.7129 - val_loss: 0.4494 - val_acc: 0.7830\n",
      "Epoch 19/100\n",
      " - 14s - loss: 0.5787 - acc: 0.6917 - val_loss: 0.5283 - val_acc: 0.7290\n",
      "Epoch 20/100\n",
      " - 14s - loss: 0.5658 - acc: 0.7089 - val_loss: 0.4581 - val_acc: 0.7770\n",
      "Epoch 21/100\n",
      " - 14s - loss: 0.5553 - acc: 0.7147 - val_loss: 0.6111 - val_acc: 0.6850\n",
      "Epoch 22/100\n",
      " - 14s - loss: 0.5580 - acc: 0.7242 - val_loss: 0.5054 - val_acc: 0.7480\n",
      "Epoch 23/100\n",
      " - 13s - loss: 0.5588 - acc: 0.7100 - val_loss: 0.4720 - val_acc: 0.7730\n",
      "Epoch 24/100\n",
      " - 13s - loss: 0.5505 - acc: 0.7212 - val_loss: 0.5123 - val_acc: 0.7470\n",
      "Epoch 25/100\n",
      " - 15s - loss: 0.5712 - acc: 0.7073 - val_loss: 0.4787 - val_acc: 0.7610\n",
      "Epoch 26/100\n",
      " - 13s - loss: 0.5408 - acc: 0.7316 - val_loss: 0.4961 - val_acc: 0.7530\n",
      "Epoch 27/100\n",
      " - 13s - loss: 0.5300 - acc: 0.7393 - val_loss: 0.4686 - val_acc: 0.7830\n",
      "Epoch 28/100\n",
      " - 13s - loss: 0.5505 - acc: 0.7199 - val_loss: 0.5242 - val_acc: 0.7460\n",
      "Epoch 29/100\n",
      " - 13s - loss: 0.5271 - acc: 0.7457 - val_loss: 0.4545 - val_acc: 0.7900\n",
      "Epoch 30/100\n",
      " - 13s - loss: 0.5384 - acc: 0.7260 - val_loss: 0.4610 - val_acc: 0.7870\n",
      "Epoch 31/100\n",
      " - 14s - loss: 0.5223 - acc: 0.7367 - val_loss: 0.4424 - val_acc: 0.7960\n",
      "Epoch 32/100\n",
      " - 13s - loss: 0.5512 - acc: 0.7213 - val_loss: 0.4779 - val_acc: 0.7780\n",
      "Epoch 33/100\n",
      " - 13s - loss: 0.5463 - acc: 0.7433 - val_loss: 0.4244 - val_acc: 0.8020\n",
      "Epoch 34/100\n",
      " - 13s - loss: 0.5385 - acc: 0.7302 - val_loss: 0.5564 - val_acc: 0.7410\n",
      "Epoch 35/100\n",
      " - 13s - loss: 0.5427 - acc: 0.7340 - val_loss: 0.8722 - val_acc: 0.6250\n",
      "Epoch 36/100\n",
      " - 13s - loss: 0.5305 - acc: 0.7402 - val_loss: 0.4386 - val_acc: 0.8110\n",
      "Epoch 37/100\n",
      " - 14s - loss: 0.5184 - acc: 0.7457 - val_loss: 0.4450 - val_acc: 0.7910\n",
      "Epoch 38/100\n",
      " - 13s - loss: 0.5441 - acc: 0.7332 - val_loss: 0.4206 - val_acc: 0.8070\n",
      "Epoch 39/100\n",
      " - 13s - loss: 0.5285 - acc: 0.7407 - val_loss: 0.4497 - val_acc: 0.7910\n",
      "Epoch 40/100\n",
      " - 13s - loss: 0.5281 - acc: 0.7376 - val_loss: 0.4420 - val_acc: 0.8000\n",
      "Epoch 41/100\n",
      " - 13s - loss: 0.5231 - acc: 0.7410 - val_loss: 0.4106 - val_acc: 0.8160\n",
      "Epoch 42/100\n",
      " - 13s - loss: 0.5220 - acc: 0.7436 - val_loss: 0.5312 - val_acc: 0.7590\n",
      "Epoch 43/100\n",
      " - 15s - loss: 0.5149 - acc: 0.7517 - val_loss: 0.4484 - val_acc: 0.7830\n",
      "Epoch 44/100\n",
      " - 14s - loss: 0.5223 - acc: 0.7432 - val_loss: 0.4120 - val_acc: 0.8120\n",
      "Epoch 45/100\n",
      " - 14s - loss: 0.5195 - acc: 0.7400 - val_loss: 0.4429 - val_acc: 0.7960\n",
      "Epoch 46/100\n",
      " - 13s - loss: 0.5246 - acc: 0.7466 - val_loss: 0.4041 - val_acc: 0.8090\n",
      "Epoch 47/100\n",
      " - 13s - loss: 0.5075 - acc: 0.7553 - val_loss: 0.4265 - val_acc: 0.8250\n",
      "Epoch 48/100\n",
      " - 13s - loss: 0.5156 - acc: 0.7583 - val_loss: 0.4795 - val_acc: 0.7750\n",
      "Epoch 49/100\n",
      " - 14s - loss: 0.5120 - acc: 0.7517 - val_loss: 0.4283 - val_acc: 0.8020\n",
      "Epoch 50/100\n",
      " - 13s - loss: 0.5255 - acc: 0.7409 - val_loss: 0.4847 - val_acc: 0.7830\n",
      "Epoch 51/100\n",
      " - 13s - loss: 0.5193 - acc: 0.7490 - val_loss: 0.4578 - val_acc: 0.7940\n",
      "Epoch 52/100\n",
      " - 13s - loss: 0.5122 - acc: 0.7469 - val_loss: 0.4558 - val_acc: 0.8020\n",
      "Epoch 53/100\n",
      " - 13s - loss: 0.5049 - acc: 0.7603 - val_loss: 0.4554 - val_acc: 0.7800\n",
      "Epoch 54/100\n",
      " - 13s - loss: 0.5097 - acc: 0.7569 - val_loss: 0.4381 - val_acc: 0.7890\n",
      "Epoch 55/100\n",
      " - 15s - loss: 0.5139 - acc: 0.7637 - val_loss: 0.4017 - val_acc: 0.8140\n",
      "Epoch 56/100\n",
      " - 13s - loss: 0.5099 - acc: 0.7560 - val_loss: 0.4347 - val_acc: 0.7940\n",
      "Epoch 57/100\n",
      " - 13s - loss: 0.4980 - acc: 0.7530 - val_loss: 0.4394 - val_acc: 0.7860\n",
      "Epoch 58/100\n",
      " - 13s - loss: 0.5130 - acc: 0.7589 - val_loss: 0.4424 - val_acc: 0.7960\n",
      "Epoch 59/100\n",
      " - 13s - loss: 0.4981 - acc: 0.7733 - val_loss: 0.4552 - val_acc: 0.7710\n",
      "Epoch 60/100\n",
      " - 13s - loss: 0.4991 - acc: 0.7599 - val_loss: 0.4227 - val_acc: 0.8080\n",
      "Epoch 61/100\n",
      " - 15s - loss: 0.4875 - acc: 0.7707 - val_loss: 0.4253 - val_acc: 0.8080\n",
      "Epoch 62/100\n",
      " - 13s - loss: 0.4981 - acc: 0.7632 - val_loss: 0.5508 - val_acc: 0.7510\n",
      "Epoch 63/100\n",
      " - 13s - loss: 0.5062 - acc: 0.7603 - val_loss: 0.4149 - val_acc: 0.8180\n",
      "Epoch 64/100\n",
      " - 13s - loss: 0.5008 - acc: 0.7655 - val_loss: 0.3925 - val_acc: 0.8360\n",
      "Epoch 65/100\n",
      " - 14s - loss: 0.4924 - acc: 0.7760 - val_loss: 0.4087 - val_acc: 0.8190\n",
      "Epoch 66/100\n",
      " - 13s - loss: 0.4925 - acc: 0.7642 - val_loss: 0.4290 - val_acc: 0.8010\n",
      "Epoch 67/100\n",
      " - 15s - loss: 0.4722 - acc: 0.7770 - val_loss: 0.3828 - val_acc: 0.8220\n",
      "Epoch 68/100\n",
      " - 14s - loss: 0.5055 - acc: 0.7606 - val_loss: 0.4122 - val_acc: 0.8120\n",
      "Epoch 69/100\n",
      " - 13s - loss: 0.4900 - acc: 0.7737 - val_loss: 0.4063 - val_acc: 0.8290\n",
      "Epoch 70/100\n",
      " - 13s - loss: 0.4993 - acc: 0.7636 - val_loss: 0.4151 - val_acc: 0.8010\n",
      "Epoch 71/100\n",
      " - 13s - loss: 0.5020 - acc: 0.7690 - val_loss: 0.4158 - val_acc: 0.7990\n",
      "Epoch 72/100\n",
      " - 13s - loss: 0.4955 - acc: 0.7653 - val_loss: 0.4049 - val_acc: 0.8310\n",
      "Epoch 73/100\n",
      " - 14s - loss: 0.4823 - acc: 0.7830 - val_loss: 0.4336 - val_acc: 0.8050\n",
      "Epoch 74/100\n",
      " - 13s - loss: 0.4804 - acc: 0.7819 - val_loss: 0.3934 - val_acc: 0.8180\n",
      "Epoch 75/100\n",
      " - 13s - loss: 0.5065 - acc: 0.7643 - val_loss: 0.4974 - val_acc: 0.7810\n",
      "Epoch 76/100\n",
      " - 13s - loss: 0.4888 - acc: 0.7779 - val_loss: 0.4695 - val_acc: 0.7960\n",
      "Epoch 77/100\n",
      " - 13s - loss: 0.4895 - acc: 0.7730 - val_loss: 0.4161 - val_acc: 0.8160\n",
      "Epoch 78/100\n",
      " - 13s - loss: 0.4820 - acc: 0.7790 - val_loss: 0.3894 - val_acc: 0.8220\n",
      "Epoch 79/100\n",
      " - 14s - loss: 0.4907 - acc: 0.7703 - val_loss: 0.3769 - val_acc: 0.8350\n",
      "Epoch 80/100\n",
      " - 13s - loss: 0.4794 - acc: 0.7779 - val_loss: 0.4107 - val_acc: 0.8180\n",
      "Epoch 81/100\n",
      " - 13s - loss: 0.4800 - acc: 0.7823 - val_loss: 0.4767 - val_acc: 0.7850\n",
      "Epoch 82/100\n",
      " - 13s - loss: 0.4937 - acc: 0.7699 - val_loss: 0.4065 - val_acc: 0.8190\n",
      "Epoch 83/100\n",
      " - 13s - loss: 0.4650 - acc: 0.7860 - val_loss: 0.3732 - val_acc: 0.8380\n",
      "Epoch 84/100\n",
      " - 13s - loss: 0.4981 - acc: 0.7692 - val_loss: 0.4256 - val_acc: 0.8300\n",
      "Epoch 85/100\n",
      " - 14s - loss: 0.5049 - acc: 0.7670 - val_loss: 0.3864 - val_acc: 0.8290\n",
      "Epoch 86/100\n",
      " - 13s - loss: 0.4730 - acc: 0.7830 - val_loss: 0.4212 - val_acc: 0.8200\n",
      "Epoch 87/100\n",
      " - 13s - loss: 0.4796 - acc: 0.7730 - val_loss: 0.4310 - val_acc: 0.8160\n",
      "Epoch 88/100\n",
      " - 14s - loss: 0.4944 - acc: 0.7702 - val_loss: 0.3845 - val_acc: 0.8290\n",
      "Epoch 89/100\n",
      " - 13s - loss: 0.4922 - acc: 0.7790 - val_loss: 0.3772 - val_acc: 0.8360\n",
      "Epoch 90/100\n",
      " - 13s - loss: 0.4921 - acc: 0.7816 - val_loss: 0.3902 - val_acc: 0.8320\n",
      "Epoch 91/100\n",
      " - 15s - loss: 0.4711 - acc: 0.7860 - val_loss: 0.4081 - val_acc: 0.8130\n",
      "Epoch 92/100\n",
      " - 13s - loss: 0.5064 - acc: 0.7709 - val_loss: 0.3651 - val_acc: 0.8450\n",
      "Epoch 93/100\n",
      " - 13s - loss: 0.4929 - acc: 0.7687 - val_loss: 0.3481 - val_acc: 0.8420\n",
      "Epoch 94/100\n",
      " - 13s - loss: 0.4720 - acc: 0.7796 - val_loss: 0.4129 - val_acc: 0.8060\n",
      "Epoch 95/100\n",
      " - 13s - loss: 0.4835 - acc: 0.7820 - val_loss: 0.5525 - val_acc: 0.7710\n",
      "Epoch 96/100\n",
      " - 13s - loss: 0.4742 - acc: 0.7709 - val_loss: 0.4102 - val_acc: 0.8290\n",
      "Epoch 97/100\n",
      " - 15s - loss: 0.4675 - acc: 0.7807 - val_loss: 0.5125 - val_acc: 0.7810\n",
      "Epoch 98/100\n",
      " - 13s - loss: 0.4692 - acc: 0.7786 - val_loss: 0.3939 - val_acc: 0.8340\n",
      "Epoch 99/100\n",
      " - 13s - loss: 0.4961 - acc: 0.7790 - val_loss: 0.4290 - val_acc: 0.8240\n",
      "Epoch 100/100\n",
      " - 13s - loss: 0.4662 - acc: 0.7876 - val_loss: 0.4970 - val_acc: 0.7820\n"
     ]
    }
   ],
   "source": [
    "history = model.fit_generator(train_generator, steps_per_epoch=100, epochs=100,\n",
    "                              validation_data=val_generator, validation_steps=50, \n",
    "                              verbose=2)       "
   ]
  },
  {
   "cell_type": "markdown",
   "metadata": {
    "colab_type": "text",
    "id": "hS7j25QOULsG"
   },
   "source": [
    "### Model Performance"
   ]
  },
  {
   "cell_type": "code",
   "execution_count": 9,
   "metadata": {
    "colab": {
     "base_uri": "https://localhost:8080/",
     "height": 308
    },
    "colab_type": "code",
    "id": "fx-Ud_eqIYco",
    "outputId": "ec07c402-9418-49ed-9145-2e9cfcc9f2ea"
   },
   "outputs": [
    {
     "data": {
      "image/png": "[encoded data removed]",
      "text/plain": [
       "<Figure size 864x288 with 2 Axes>"
      ]
     },
     "metadata": {
      "tags": []
     },
     "output_type": "display_data"
    }
   ],
   "source": [
    "%matplotlib inline\n",
    "import matplotlib.pyplot as plt\n",
    "\n",
    "f, (ax1, ax2) = plt.subplots(1, 2, figsize=(12, 4))\n",
    "t = f.suptitle('Basic CNN Performance', fontsize=12)\n",
    "f.subplots_adjust(top=0.85, wspace=0.3)\n",
    "\n",
    "epoch_list = list(range(1,101))\n",
    "ax1.plot(epoch_list, history.history['acc'], label='Train Accuracy')\n",
    "ax1.plot(epoch_list, history.history['val_acc'], label='Validation Accuracy')\n",
    "ax1.set_xticks(np.arange(0, 101, 5))\n",
    "ax1.set_ylabel('Accuracy Value')\n",
    "ax1.set_xlabel('Epoch')\n",
    "ax1.set_title('Accuracy')\n",
    "l1 = ax1.legend(loc=\"best\")\n",
    "\n",
    "ax2.plot(epoch_list, history.history['loss'], label='Train Loss')\n",
    "ax2.plot(epoch_list, history.history['val_loss'], label='Validation Loss')\n",
    "ax2.set_xticks(np.arange(0, 101, 5))\n",
    "ax2.set_ylabel('Loss Value')\n",
    "ax2.set_xlabel('Epoch')\n",
    "ax2.set_title('Loss')\n",
    "l2 = ax2.legend(loc=\"best\")"
   ]
  },
  {
   "cell_type": "code",
   "execution_count": 0,
   "metadata": {
    "colab": {},
    "colab_type": "code",
    "id": "6H3SOuDPKrW5"
   },
   "outputs": [],
   "source": [
    "if not os.path.exists('saved_models'): os.mkdir('saved_models')\n",
    "model.save('models/cnn scratch.h5')"
   ]
  },
  {
   "cell_type": "code",
   "execution_count": 0,
   "metadata": {
    "colab": {},
    "colab_type": "code",
    "id": "U5MAybMyOlkU"
   },
   "outputs": [],
   "source": []
  }
 ],
 "metadata": {
  "accelerator": "GPU",
  "colab": {
   "collapsed_sections": [],
   "name": "Using CNN from Scratch.ipynb",
   "provenance": [],
   "toc_visible": true,
   "version": "0.3.2"
  },
  "hide_input": false,
  "kernelspec": {
   "display_name": "Python 3",
   "language": "python",
   "name": "python3"
  },
  "language_info": {
   "codemirror_mode": {
    "name": "ipython",
    "version": 3
   },
   "file_extension": ".py",
   "mimetype": "text/x-python",
   "name": "python",
   "nbconvert_exporter": "python",
   "pygments_lexer": "ipython3",
   "version": "3.7.3"
  },
  "toc": {
   "base_numbering": 1,
   "nav_menu": {},
   "number_sections": true,
   "sideBar": true,
   "skip_h1_title": false,
   "title_cell": "Table of Contents",
   "title_sidebar": "Contents",
   "toc_cell": false,
   "toc_position": {},
   "toc_section_display": true,
   "toc_window_display": false
  },
  "varInspector": {
   "cols": {
    "lenName": 16,
    "lenType": 16,
    "lenVar": 40
   },
   "kernels_config": {
    "python": {
     "delete_cmd_postfix": "",
     "delete_cmd_prefix": "del ",
     "library": "var_list.py",
     "varRefreshCmd": "print(var_dic_list())"
    },
    "r": {
     "delete_cmd_postfix": ") ",
     "delete_cmd_prefix": "rm(",
     "library": "var_list.r",
     "varRefreshCmd": "cat(var_dic_list()) "
    }
   },
   "types_to_exclude": [
    "module",
    "function",
    "builtin_function_or_method",
    "instance",
    "_Feature"
   ],
   "window_display": false
  }
 },
 "nbformat": 4,
 "nbformat_minor": 1
}
